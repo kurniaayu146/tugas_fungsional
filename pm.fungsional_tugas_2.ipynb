{
  "cells": [
    {
      "cell_type": "code",
      "execution_count": null,
      "metadata": {
        "colab": {
          "base_uri": "https://localhost:8080/"
        },
        "id": "iv0SnKxQ15pO",
        "outputId": "10bcb883-cf89-4f84-84e2-aea5d718b4a8"
      },
      "outputs": [
        {
          "name": "stdout",
          "output_type": "stream",
          "text": [
            "Hasil Evaluasi pohon ekspresi :  3.25\n"
          ]
        }
      ],
      "source": [
        "# PENGGUNAAN TUPLE DALAM FUNGSI\n",
        "\n",
        "\n",
        "# Fungsi penambahan\n",
        "def add(a, b):\n",
        "    return a + b\n",
        "\n",
        "# Fungsi pengurangan\n",
        "def minus(a, b):\n",
        "    return a - b\n",
        "\n",
        "# Fungsi perkalian\n",
        "def mult(a, b):\n",
        "    return a * b\n",
        "\n",
        "# Fungsi pembagian\n",
        "def div(a, b):\n",
        "    if b == 0:\n",
        "        return \"Tidak bisa dibagi oleh 0\"\n",
        "    return a / b\n",
        "\n",
        "# Definisikan pohon ekspresi sebagai fungsi\n",
        "def evaluate_expression(expression_tree):\n",
        "    if isinstance(expression_tree, (int, float)):\n",
        "        return expression_tree\n",
        "    elif isinstance(expression_tree, tuple) and len(expression_tree) == 3:\n",
        "        operator, left_operand, right_operand = expression_tree\n",
        "        if operator == '+':\n",
        "            return add(evaluate_expression(left_operand), evaluate_expression(right_operand))\n",
        "        elif operator == '-':\n",
        "            return minus(evaluate_expression(left_operand), evaluate_expression(right_operand))\n",
        "        elif operator == '*':\n",
        "            return mult(evaluate_expression(left_operand), evaluate_expression(right_operand))\n",
        "        elif operator == '/':\n",
        "            return div(evaluate_expression(left_operand), evaluate_expression(right_operand))\n",
        "    else:\n",
        "        return \"Operasi aritmatik tidak valid\"\n",
        "\n",
        "# Contoh penggunaan fungsi tree (2 + 3) * (5 - 1))\n",
        "expression_tree = ('/', ('+', 10, 3), ('-', 5, 1))\n",
        "\n",
        "# Evaluasi pohon ekspresi\n",
        "result = evaluate_expression(expression_tree)\n",
        "\n",
        "print(\"Hasil Evaluasi pohon ekspresi : \", result)"
      ]
    },
    {
      "cell_type": "code",
      "execution_count": null,
      "metadata": {
        "colab": {
          "base_uri": "https://localhost:8080/"
        },
        "id": "9WTRFxlo2kul",
        "outputId": "eccfd331-7c35-4b83-b2f8-f7f828354eb0"
      },
      "outputs": [
        {
          "name": "stdout",
          "output_type": "stream",
          "text": [
            "Data Float (dalam bentuk tuple): [3.1, 2.7, 5.5]\n",
            "\n",
            "Data String (dalam bentuk list): ['hello', 'python', 'world', 'AI']\n",
            "\n",
            "Data Integer (dalam bentuk dictionary): {105: {'ratusan': 1, 'puluhan': 0, 'satuan': 5}, 737: {'ratusan': 7, 'puluhan': 3, 'satuan': 7}, 412: {'ratusan': 4, 'puluhan': 1, 'satuan': 2}}\n"
          ]
        }
      ],
      "source": [
        "# PENGGUNAAN LIST DALAM TUPLE\n",
        "\n",
        "\n",
        "\n",
        "# Data campuran\n",
        "data_campuran = [105, 3.1, \"hello\", 737, \"python\", 2.7, \"world\", 412, 5.5, \"AI\"]\n",
        "\n",
        "# Inisialisasi variabel untuk menyimpan nilai int, float, dan string\n",
        "nilai_int = {}\n",
        "nilai_float = []\n",
        "nilai_string = []\n",
        "\n",
        "# Iterasi melalui data campuran\n",
        "for item in data_campuran:\n",
        "    if isinstance(item, int):\n",
        "        # Memisahkan angka satuan, puluhan, dan ratusan dari int\n",
        "        ratusan = item // 100\n",
        "        puluhan = (item % 100) // 10\n",
        "        satuan = item % 10\n",
        "        nilai_int[item] = {'ratusan': ratusan, 'puluhan': puluhan, 'satuan': satuan}\n",
        "    if isinstance(item, float):\n",
        "        # Menyimpan data float dalam bentuk tuple\n",
        "        nilai_float.append(item)\n",
        "    if isinstance(item, str):\n",
        "        # Menyimpan data string dalam lis\n",
        "        nilai_string.append(item)\n",
        "\n",
        "# Menampilkan hasil pemisahan\n",
        "print(\"Data Float (dalam bentuk tuple):\", nilai_float)\n",
        "print(\"\\nData String (dalam bentuk list):\", nilai_string)\n",
        "print(\"\\nData Integer (dalam bentuk dictionary):\", nilai_int)\n",
        "\n"
      ]
    },
    {
      "cell_type": "code",
      "execution_count": null,
      "metadata": {
        "colab": {
          "base_uri": "https://localhost:8080/"
        },
        "id": "OAZsv8DG48-R",
        "outputId": "196920a1-0326-4505-8952-3271181f0208"
      },
      "outputs": [
        {
          "name": "stdout",
          "output_type": "stream",
          "text": [
            "Hasil Nilai Akhir Mahasiswa\n",
            "Nama: Mahasiswa1\tNilai Akhir: 87.50\n",
            "Nama: Mahasiswa2\tNilai Akhir: 83.00\n",
            "Nama: Mahasiswa3\tNilai Akhir: 84.00\n"
          ]
        }
      ],
      "source": [
        "# PENGGUNAAN DICTONARY\n",
        "\n",
        "# Sistem Penilaian Akhir Mahasiswa\n",
        "# Tambahkan Fungsi untuk menghitungkan nilai akhir\n",
        "# Tambahkan fungsi untuk menghitung nilai akhir semua mahasiswa\n",
        "\n",
        "def hitung_nilai_akhir(uts, uas):\n",
        "    # Hitung nilai akhir dengan bobot 40% UTS dan 60% UAS\n",
        "    nilai_akhir = (uts + uas) / 2\n",
        "    return nilai_akhir\n",
        "\n",
        "def hitung_nilai_akhir_mahasiswa(data_mahasiswa):\n",
        "    data_nilai_akhir = {}\n",
        "    for nama, nilai in data_mahasiswa.items():\n",
        "        uts, uas = nilai[\"uts\"], nilai[\"uas\"]\n",
        "        nilai_akhir = hitung_nilai_akhir(uts, uas)\n",
        "        data_nilai_akhir[nama] = nilai_akhir\n",
        "    return data_nilai_akhir\n",
        "\n",
        "def tampilkan_nilai_akhir(data_nilai_akhir):\n",
        "    print(\"Hasil Nilai Akhir Mahasiswa\")\n",
        "    for nama, nilai_akhir in data_nilai_akhir.items():\n",
        "        print(\"Nama: {}\\tNilai Akhir: {:.2f}\".format(nama, nilai_akhir))\n",
        "\n",
        "def main():\n",
        "    data_mahasiswa = {\n",
        "        \"Mahasiswa1\": {\"uts\": 85, \"uas\": 90},\n",
        "        \"Mahasiswa2\": {\"uts\": 78, \"uas\": 88},\n",
        "        \"Mahasiswa3\": {\"uts\": 92, \"uas\": 76},\n",
        "        # Tambahkan data mahasiswa sesuai kebutuhan\n",
        "    }\n",
        "\n",
        "    data_nilai_akhir = hitung_nilai_akhir_mahasiswa(data_mahasiswa)\n",
        "    tampilkan_nilai_akhir(data_nilai_akhir)\n",
        "\n",
        "if __name__ == \"__main__\":\n",
        "    main()"
      ]
    }
  ],
  "metadata": {
    "colab": {
      "provenance": []
    },
    "kernelspec": {
      "display_name": "Python 3",
      "name": "python3"
    },
    "language_info": {
      "name": "python"
    }
  },
  "nbformat": 4,
  "nbformat_minor": 0
}
